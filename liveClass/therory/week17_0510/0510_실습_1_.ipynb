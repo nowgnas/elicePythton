{
  "cells": [
    {
      "cell_type": "markdown",
      "metadata": {
        "id": "Bda_uQgtiTUP"
      },
      "source": [
        "[![Open In Colab](https://colab.research.google.com/assets/colab-badge.svg)](https://colab.research.google.com/github/mravanba/comp551-notebooks/blob/master/MLP.ipynb)\n",
        "\n",
        "# Multilayer Perceptron (MLP)\n",
        "여기서 우리의 목표는 이진 분류를 위한 2계층 신경망을 구현하고, 경사하강법을 사용하여 훈련하고, 홍채 데이터 세트를 분류하는 데 사용하는 것입니다.\n",
        "우리 모델은\n",
        "$$\n",
        "\\hat{y} = \\sigma \\left ( W \\sigma \\left ( V x \\right ) \\right)\n",
        "$$\n",
        "여기서 $M$ 은닉 유닛과 $D$ 입력 기능이 있습니다. 즉 $w \\in \\mathbb{R}^{M}$ 및 $V \\in \\mathbb{R}^{M \\times D}입니다. $ 여기에서는 단순화를 위해 각 레이어에 대한 바이어스 매개변수를 포함하지 않습니다. 구현의 핵심은 기울기 계산입니다."
      ]
    },
    {
      "cell_type": "code",
      "execution_count": 1,
      "metadata": {
        "id": "fdC6NyqXiTUV"
      },
      "outputs": [],
      "source": [
        "import numpy as np\n",
        "#%matplotlib notebook\n",
        "%matplotlib inline\n",
        "import matplotlib.pyplot as plt\n",
        "from IPython.core.debugger import set_trace\n",
        "import warnings\n",
        "warnings.filterwarnings('ignore')"
      ]
    },
    {
      "cell_type": "code",
      "execution_count": 3,
      "metadata": {
        "id": "Rtt-kkG4iTUX"
      },
      "outputs": [],
      "source": [
        "logistic = lambda z: 1./ (1 + np.exp(-z))\n",
        "\n",
        "class MLP:\n",
        "    def __init__(self, M = 64):\n",
        "        self.M = M\n",
        "            \n",
        "    def fit(self, x, y, optimizer):\n",
        "        N,D = x.shape\n",
        "        def gradient(x, y, params):\n",
        "            v, w = params\n",
        "            z = logistic(np.dot(x, v)) #N x M\n",
        "            yh = logistic(np.dot(z, w))#N\n",
        "            dy = yh - y #N\n",
        "            dw = np.dot(z.T, dy)/N #M\n",
        "            dz = np.outer(dy, w) #N x M\n",
        "            dv = np.dot(x.T, dz * z * (1 - z))/N #D x M\n",
        "            dparams = [dv, dw]\n",
        "            return dparams\n",
        "        \n",
        "        w = np.random.randn(self.M) * .01\n",
        "        v = np.random.randn(D,self.M) * .01\n",
        "        params0 = [v,w]\n",
        "        self.params = optimizer.run(gradient, x, y, params0)\n",
        "        return self\n",
        "    \n",
        "    def predict(self, x):\n",
        "        v, w = self.params\n",
        "        z = logistic(np.dot(x, v)) #N x M\n",
        "        yh = logistic(np.dot(z, w))#N\n",
        "        return yh"
      ]
    },
    {
      "cell_type": "markdown",
      "metadata": {
        "id": "kUvU1U8-iTUZ"
      },
      "source": [
        "위의 구현에서 우리는 모델 매개변수와 그 기울기를 유지하기 위해 목록 데이터 구조를 사용했습니다. 아래에서 매개변수 목록과 함께 작동하도록 `GradientDescent` 클래스를 수정했습니다.여기서는 벡터 및 행렬 연산을 사용하여 *모든* 매개변수에 대한 도함수를 계산합니다."
      ]
    },
    {
      "cell_type": "code",
      "execution_count": 4,
      "metadata": {
        "id": "JQzKUXpCiTUa"
      },
      "outputs": [],
      "source": [
        "class GradientDescent:\n",
        "    def __init__(self, learning_rate=.001, max_iters=1e4, epsilon=1e-8):\n",
        "        self.learning_rate = learning_rate\n",
        "        self.max_iters = max_iters\n",
        "        self.epsilon = epsilon\n",
        "        \n",
        "    def run(self, gradient_fn, x, y, params):\n",
        "        norms = np.array([np.inf])\n",
        "        t = 1\n",
        "        while np.any(norms > self.epsilon) and t < self.max_iters:\n",
        "            grad = gradient_fn(x, y, params)\n",
        "            for p in range(len(params)):\n",
        "                params[p] -= self.learning_rate * grad[p]\n",
        "            t += 1\n",
        "            norms = np.array([np.linalg.norm(g) for g in grad])\n",
        "        return params"
      ]
    },
    {
      "cell_type": "markdown",
      "metadata": {
        "id": "wCnuGF0jiTUb"
      },
      "source": [
        "## Iris dataset\n",
        "이것을 적용하여 붓꽃 ​​데이터셋으로 이진 분류를 해보자.\n",
        "아래에서 우리는 많은 반복에 대해 경사하강법을 실행하고 결정 경계를 플로팅합니다."
      ]
    },
    {
      "cell_type": "code",
      "execution_count": 7,
      "metadata": {
        "id": "_9QJ69EniTUc",
        "outputId": "8e6ae6f2-defa-4136-bbf1-63632a699f30",
        "colab": {
          "base_uri": "https://localhost:8080/",
          "height": 295
        }
      },
      "outputs": [
        {
          "output_type": "display_data",
          "data": {
            "text/plain": [
              "<Figure size 432x288 with 1 Axes>"
            ],
            "image/png": "[encoded data removed]"
          },
          "metadata": {
            "needs_background": "light"
          }
        }
      ],
      "source": [
        "from sklearn import datasets\n",
        "dataset = datasets.load_iris()\n",
        "x, y = dataset['data'][:,[1,2]], dataset['target']\n",
        "y =  y == 1\n",
        "model = MLP(M=64)\n",
        "optimizer = GradientDescent(learning_rate=.1, max_iters=20000)\n",
        "yh = model.fit(x, y, optimizer).predict(x) \n",
        "x0v = np.linspace(np.min(x[:,0]), np.max(x[:,0]), 200)\n",
        "x1v = np.linspace(np.min(x[:,1]), np.max(x[:,1]), 200)\n",
        "x0,x1 = np.meshgrid(x0v, x1v)\n",
        "x_all = np.vstack((x0.ravel(),x1.ravel())).T\n",
        "yh_all = model.predict(x_all) > .5\n",
        "plt.scatter(x[:,0], x[:,1], c=y, marker='o', alpha=1)\n",
        "plt.scatter(x_all[:,0], x_all[:,1], c=yh_all, marker='.', alpha=.01)\n",
        "plt.ylabel('sepal length')\n",
        "plt.xlabel('sepal width')\n",
        "plt.title('decision boundary of the MLP')\n",
        "plt.show()"
      ]
    },
    {
      "cell_type": "code",
      "execution_count": null,
      "metadata": {
        "id": "rGIAtjThiTUd"
      },
      "outputs": [],
      "source": [
        ""
      ]
    }
  ],
  "metadata": {
    "kernelspec": {
      "display_name": "Python 3",
      "language": "python",
      "name": "python3"
    },
    "language_info": {
      "codemirror_mode": {
        "name": "ipython",
        "version": 3
      },
      "file_extension": ".py",
      "mimetype": "text/x-python",
      "name": "python",
      "nbconvert_exporter": "python",
      "pygments_lexer": "ipython3",
      "version": "3.8.6"
    },
    "colab": {
      "name": "MLP.ipynb",
      "provenance": []
    }
  },
  "nbformat": 4,
  "nbformat_minor": 0
}