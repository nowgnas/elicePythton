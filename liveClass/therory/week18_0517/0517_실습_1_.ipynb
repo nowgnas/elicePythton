{
  "cells": [
    {
      "cell_type": "markdown",
      "metadata": {
        "id": "TQgNKlmh4uMe"
      },
      "source": [
        "# 1. OpenCV 설치\n",
        "\n",
        "OpenCV(Open Source Computer Vision Libary)는 이미지를 다루는 분야에서 가장 널리 이용되고 인기 있는 라이브러리이며, 이미지를 처리하기 위한 편리한 기능을 대부분 담고 있다. 아래의 명령어를 통해 설치가 가능하다.\n",
        "\n",
        "\n",
        "```\n",
        "pip install opencv-python\n",
        "```\n",
        "\n"
      ]
    },
    {
      "cell_type": "code",
      "execution_count": null,
      "metadata": {
        "id": "YlRI9tU34xAN"
      },
      "outputs": [],
      "source": [
        "import cv2\n",
        "cv2.__version__"
      ]
    },
    {
      "cell_type": "markdown",
      "metadata": {
        "id": "IF1XcIfY5EIZ"
      },
      "source": [
        "# 2. 이미지 로드\n",
        "여기서 활용하는 샘플 이미지는 해당 책의 [github](https://github.com/rickiepark/machine-learning-with-python-cookbook/tree/master/images) 에서 다운받을 수 있다.\n",
        "\n",
        "먼저 앞으로 공통적으로 계속 사용 될 라이브러리를 임포트한다."
      ]
    },
    {
      "cell_type": "code",
      "execution_count": null,
      "metadata": {
        "id": "iMymb10U5NTH"
      },
      "outputs": [],
      "source": [
        "import cv2\n",
        "import numpy as np\n",
        "import matplotlib.pyplot as plt\n",
        "from google.colab.patches import cv2_imshow"
      ]
    },
    {
      "cell_type": "markdown",
      "metadata": {
        "id": "Kl3AnUcb5PAq"
      },
      "source": [
        "imread() 메소드를 통해 이미지를 로드 후 opencv, matplotlib을 통해 출력해본다.\n",
        "\n"
      ]
    },
    {
      "cell_type": "code",
      "execution_count": null,
      "metadata": {
        "colab": {
          "background_save": true
        },
        "id": "JecaINgV5QQH"
      },
      "outputs": [],
      "source": [
        "image = cv2.imread('images/plane.jpeg', cv2.IMREAD_GRAYSCALE)\n",
        "\n",
        "cv2_imshow(image) # cv2.imshow('image', image)"
      ]
    },
    {
      "cell_type": "markdown",
      "metadata": {
        "id": "NXDVpAuI5S8C"
      },
      "source": [
        "위 이미지의 type 및 shape을 출력해보면 아래와 같다.\n",
        "\n"
      ]
    },
    {
      "cell_type": "code",
      "execution_count": null,
      "metadata": {
        "id": "KYHNUTtM5UMZ"
      },
      "outputs": [],
      "source": [
        "print(type(image))\n",
        "image.shape "
      ]
    },
    {
      "cell_type": "markdown",
      "metadata": {
        "id": "uEkWjCaQ5X-j"
      },
      "source": [
        "이미지 데이터는 본래 개별 원소로 이루어진 행렬의 집합이다. 여기서 개별 원소는 픽셀(pixel)이라고 할 수 있으며 개별 원소의 값은 픽셀의 강도라고 할 수 있다. 그리고 픽셀의 강도는 0(검정)부터 255(흰색) 사이의 범위를 가지고 있다.\n",
        "\n",
        "이미지를 행렬 그대로 출력하게 되면 아래와 같이 표현된다."
      ]
    },
    {
      "cell_type": "code",
      "execution_count": null,
      "metadata": {
        "id": "ZBrtoy5J5ZXN"
      },
      "outputs": [],
      "source": [
        "image"
      ]
    },
    {
      "cell_type": "markdown",
      "metadata": {
        "id": "AbmcEm2t5a2U"
      },
      "source": [
        "컬러를 이미지를 읽기 위해서는 imread() 메소드에 cv2.IMREAD_COLOR 매개변수를 넣어주면 된다. 그런데 주의할점은 OpenCV는 기본적으로 이미지를 BGR타입으로 읽는다는 것이다. 하지만 Matplotlib등 대부분의 이미지 라이브러리는 RGB타입을 사용하기 때문에 BGR RGB타입으로 변경해주는 것이 좋다."
      ]
    },
    {
      "cell_type": "code",
      "execution_count": null,
      "metadata": {
        "colab": {
          "background_save": true
        },
        "id": "lcZKmLAV5c3p"
      },
      "outputs": [],
      "source": [
        "# 컬러 이미지 로드\n",
        "image_bgr = cv2.imread('images/plane.jpeg', cv2.IMREAD_COLOR)\n",
        "\n",
        "# RGB타입으로 변환\n",
        "image_rgb = cv2.cvtColor(image_bgr, cv2.COLOR_BGR2RGB)\n",
        "\n",
        "# plot\n",
        "plt.imshow(image_rgb); plt.show()"
      ]
    },
    {
      "cell_type": "markdown",
      "metadata": {
        "id": "niJYYRSS5d_D"
      },
      "source": [
        "# 3. 이미지 저장\n",
        "OpenCV의 imwrite() 메소드를 사용하여 이미지를 저장할 수 있다."
      ]
    },
    {
      "cell_type": "code",
      "execution_count": null,
      "metadata": {
        "colab": {
          "background_save": true
        },
        "id": "fVxg1xzp5f-o"
      },
      "outputs": [],
      "source": [
        "# 이미지 로드 \n",
        "image = cv2.imread('images/plane.jpeg', cv2.IMREAD_GRAYSCALE)\n",
        "# 이미지 저장 \n",
        "cv2.imwrite('images/new_plane.jpeg', image)"
      ]
    },
    {
      "cell_type": "markdown",
      "metadata": {
        "id": "aOM3wWRj5hYC"
      },
      "source": [
        "# 4. 이미지 크기 변경\n",
        "OpenCV의 resize() 메소드를 이용하여 이미지 크기 변경이 가능하다.\n",
        "256x256 크기의 이미지를 로드한 후 이를 50x50 크기의 이미지로 변경한 후 출력해본다."
      ]
    },
    {
      "cell_type": "code",
      "execution_count": null,
      "metadata": {
        "colab": {
          "background_save": true
        },
        "id": "EcjBos2a5j0s"
      },
      "outputs": [],
      "source": [
        "image = cv2.imread('images/plane_256x256.jpeg', cv2.IMREAD_GRAYSCALE)\n",
        "# 이미지 크기를 50x50으로 변경\n",
        "image_50x50 = cv2.resize(image, (50, 50))\n",
        "\n",
        "# 출력 \n",
        "fig, ax = plt.subplots(1,2, figsize=(10,5))\n",
        "ax[0].imshow(image, cmap='gray')\n",
        "ax[0].set_title('Original Image')\n",
        "ax[1].imshow(image_50x50, cmap='gray')\n",
        "ax[1].set_title('Resized Image')"
      ]
    },
    {
      "cell_type": "markdown",
      "metadata": {
        "id": "Niza2Qh85lgS"
      },
      "source": [
        "# 5. 이미지 자르기(crop)\n",
        "이미지를 자르고 싶을 경우 배열 슬라이싱을 이용하여 원하는 부분만 crop할 수 있다.\n",
        "\n"
      ]
    },
    {
      "cell_type": "code",
      "execution_count": null,
      "metadata": {
        "colab": {
          "background_save": true
        },
        "id": "thQ0HtY15ngk"
      },
      "outputs": [],
      "source": [
        "image = cv2.imread('images/plane_256x256.jpeg', cv2.IMREAD_GRAYSCALE)\n",
        "\n",
        "# 이미지의 모든 행과 열의 절반만 선택\n",
        "image_cropped = image[:,:128]\n",
        "\n",
        "plt.imshow(image_cropped, cmap='gray')\n",
        "plt.show()"
      ]
    },
    {
      "cell_type": "markdown",
      "metadata": {
        "id": "TXQJff7B5pMl"
      },
      "source": [
        "# 6. 이미지 blur 처리\n",
        "이미지를 흐리게 하기 위해서는 각 픽셀을 주변 픽셀의 평균값으로 변환하면 되며, 이렇게 주변 픽셀에 수행되는 연산을 커널(kernel)이라고 한다. 커널이 클수록 이미지가 더 부드러워지게 된다."
      ]
    },
    {
      "cell_type": "code",
      "execution_count": null,
      "metadata": {
        "colab": {
          "background_save": true
        },
        "id": "Ol1GcOXK5r6b"
      },
      "outputs": [],
      "source": [
        "# 이미지 로드 \n",
        "image = cv2.imread('images/plane_256x256.jpeg', cv2.IMREAD_GRAYSCALE)\n",
        "# blur() : 각 픽셀에 커널 개수의 역수를 곱하여 모두 더함\n",
        "image_blurry = cv2.blur(image, (5,5)) # 5 x 5 커널 평균값으로 이미지를 흐리게 함 \n",
        "\n",
        "plt.imshow(image_blurry, cmap='gray')\n",
        "plt.show()"
      ]
    },
    {
      "cell_type": "markdown",
      "metadata": {
        "id": "yYFIatk85uN5"
      },
      "source": [
        "100x100 커널과 같이 큰 커널을 적용할 경우 이미지가 훨씬 뭉개지게 된다."
      ]
    },
    {
      "cell_type": "code",
      "execution_count": null,
      "metadata": {
        "colab": {
          "background_save": true
        },
        "id": "JhO0J_Ke5vI3"
      },
      "outputs": [],
      "source": [
        "image_very_blurry = cv2.blur(image, (100,100))\n",
        "\n",
        "plt.imshow(image_very_blurry, cmap='gray')\n",
        "plt.show()"
      ]
    },
    {
      "cell_type": "markdown",
      "metadata": {
        "id": "fn7_V9yN5xsn"
      },
      "source": [
        "아래와 같이 커널을 직접 정의한 후 filter2D() 메소드를 통해 이미지에 적용하는 것도 가능하다.\n",
        "생성된 커널을 이미지에 적용 시 중앙 원소가 변환되는 픽셀이며, 나머지는 그 픽셀의 이웃이 된다."
      ]
    },
    {
      "cell_type": "code",
      "execution_count": null,
      "metadata": {
        "colab": {
          "background_save": true
        },
        "id": "Qn8eqCVB5y6-"
      },
      "outputs": [],
      "source": [
        "# 커널 생성 \n",
        "kernel = np.ones((10,10)) / 25.0 # 모두 더하면 1이 되도록 정규화\n",
        "kernel "
      ]
    },
    {
      "cell_type": "code",
      "execution_count": null,
      "metadata": {
        "colab": {
          "background_save": true
        },
        "id": "Si9QjMZL50mP"
      },
      "outputs": [],
      "source": [
        "# filter2D함수로 커널을 이미지에 직접 적용 \n",
        "image_kernel = cv2.filter2D(image, -1, kernel)\n",
        "\n",
        "plt.imshow(image_kernel, cmap='gray')\n",
        "plt.show()"
      ]
    },
    {
      "cell_type": "markdown",
      "metadata": {
        "id": "lUuRXJv4518v"
      },
      "source": [
        "자주 사용되는 블러 함수로 가우시안 분포를 사용하는 가우시안 블러(GaussianBlur)가 있다. GaussianBlur() 함수의 세 번째 매개변수는 X축(너비) 방향의 표준편차이며, 0으로 지정하면 ((너비-1)0.5-1)0.3+0.8과 같이 계산된다."
      ]
    },
    {
      "cell_type": "code",
      "execution_count": null,
      "metadata": {
        "colab": {
          "background_save": true
        },
        "id": "kpLRBL1p53Zu"
      },
      "outputs": [],
      "source": [
        "image_very_blurry = cv2.GaussianBlur(image, (5,5), 0) \n",
        "\n",
        "plt.imshow(image_very_blurry, cmap='gray')\n",
        "plt.show()"
      ]
    },
    {
      "cell_type": "markdown",
      "metadata": {
        "id": "qeE6SfcC55Bx"
      },
      "source": [
        "# 7. 이미지 선명하게 표현\n",
        "대상 픽셀을 강조하는 커널을 정의한 후 filter2D() 메소드를 사용하여 이미지에 적용한다."
      ]
    },
    {
      "cell_type": "code",
      "execution_count": null,
      "metadata": {
        "colab": {
          "background_save": true
        },
        "id": "XeruUYIA56_W"
      },
      "outputs": [],
      "source": [
        "image = cv2.imread('images/plane_256x256.jpeg', cv2.IMREAD_GRAYSCALE)\n",
        "\n",
        "# 커널 생성(대상이 있는 픽셀을 강조)\n",
        "kernel = np.array([[0, -1, 0],\n",
        "                   [-1, 5, -1],\n",
        "                   [0, -1, 0]])\n",
        "\n",
        "# 커널 적용 \n",
        "image_sharp = cv2.filter2D(image, -1, kernel)\n",
        "\n",
        "fig, ax = plt.subplots(1,2, figsize=(10,5))\n",
        "ax[0].imshow(image, cmap='gray')\n",
        "ax[0].set_title('Original Image')\n",
        "ax[1].imshow(image_sharp, cmap='gray')\n",
        "ax[1].set_title('Sharp Image')"
      ]
    },
    {
      "cell_type": "markdown",
      "metadata": {
        "id": "nyLPh3eS58to"
      },
      "source": [
        "# 8. 이미지 대비 높이기\n",
        "히스토그램 평활화(Histogram Equalization)은 객체의 형태가 두드러지도록 만들어주는 이미지 처리 도구이며, OpenCV에서는 equalizeHist() 메소드를 통해 적용할 수 있다.\n",
        "\n"
      ]
    },
    {
      "cell_type": "code",
      "execution_count": null,
      "metadata": {
        "colab": {
          "background_save": true
        },
        "id": "CEsBQ9bC597t"
      },
      "outputs": [],
      "source": [
        "image = cv2.imread('images/plane_256x256.jpeg', cv2.IMREAD_GRAYSCALE)\n",
        "\n",
        "# 이미지 대비를 향상\n",
        "image_enhanced = cv2.equalizeHist(image)\n",
        "\n",
        "# plot\n",
        "fig, ax = plt.subplots(1,2, figsize=(10, 5))\n",
        "ax[0].imshow(image, cmap='gray')\n",
        "ax[0].set_title('Original Image')\n",
        "ax[1].imshow(image_enhanced, cmap='gray')\n",
        "ax[1].set_title('Enhanced Image')"
      ]
    },
    {
      "cell_type": "markdown",
      "metadata": {
        "id": "kka_tRXP5_Rh"
      },
      "source": [
        "컬러 이미지의 경우 먼저 YUV 컬러 포맷으로 변환해야 한다. Y는 루마 또는 밝기이고 U와 V는 컬러를 나타낸다. 변환한 뒤에 위와 동일하게 equlizeHist() 메소드를 적용하고 다시 RGB 포맷으로 변환 후 출력한다.\n",
        "\n"
      ]
    },
    {
      "cell_type": "code",
      "execution_count": null,
      "metadata": {
        "colab": {
          "background_save": true
        },
        "id": "0ktbaHQA6Al5"
      },
      "outputs": [],
      "source": [
        "image_bgr = cv2.imread('images/plane.jpeg')\n",
        "\n",
        "# YUV 컬로 포맷으로 변환\n",
        "image_yuv = cv2.cvtColor(image_bgr, cv2.COLOR_BGR2YUV)\n",
        "# 히스토그램 평활화 적용\n",
        "image_yuv[:, :, 0] = cv2.equalizeHist(image_yuv[:, :, 0])\n",
        "# #RGB로 변환\n",
        "image_rgb = cv2.cvtColor(image_yuv, cv2.COLOR_YUV2RGB)\n",
        "\n",
        "# plot\n",
        "fig, ax = plt.subplots(1,2, figsize=(12, 8))\n",
        "ax[0].imshow(image_bgr, cmap='gray')\n",
        "ax[0].set_title('Original Color Image')\n",
        "ax[1].imshow(image_rgb, cmap='gray')\n",
        "ax[1].set_title('Enhanced Color Image')"
      ]
    },
    {
      "cell_type": "markdown",
      "metadata": {
        "id": "6HeoWEIX6Coq"
      },
      "source": [
        "# 9. 이미지 이진화\n",
        "이미지 이진화(임계처리)는 어떤 값보다 큰 값을 가진 픽셀을 흰색으로 만들고 작은 값을 가진 픽셀은 검은색으로 만드는 과정이다. 더 고급 기술은 적응적 이진화(Adaptive Thresholding)로, 픽셀의 임곗값이 주변 픽셀의 강도에 의해 결정된다. 이는 이미지 안의 영역마다 빛 조건이 달라질 때 도움이 된다."
      ]
    },
    {
      "cell_type": "code",
      "execution_count": null,
      "metadata": {
        "colab": {
          "background_save": true
        },
        "id": "Qcu7p05c6EOo"
      },
      "outputs": [],
      "source": [
        "# 이미지 로드 \n",
        "image_grey = cv2.imread('images/plane_256x256.jpeg', cv2.IMREAD_GRAYSCALE)\n",
        "\n",
        "\n",
        "# Adaptive Thresholding 적용 \n",
        "max_output_value = 255   # 출력 픽셀 강도의 최대값\n",
        "neighborhood_size = 99\n",
        "subtract_from_mean = 10\n",
        "image_binarized = cv2.adaptiveThreshold(image_grey,\n",
        "                                       max_output_value,\n",
        "                                       cv2.ADAPTIVE_THRESH_GAUSSIAN_C,\n",
        "                                       cv2.THRESH_BINARY,\n",
        "                                       neighborhood_size,\n",
        "                                       subtract_from_mean)"
      ]
    },
    {
      "cell_type": "markdown",
      "metadata": {
        "id": "dQuR4Lz56FjL"
      },
      "source": [
        "adaptiveThreshold() 함수에는 네 개의 중요한 매개변수가 있다.\n",
        "\n",
        "\n",
        "\n",
        "*   max_output_value : 출력 픽셀 강도의 최댓값 저장\n",
        "*   cv2.ADAPTIVE_THRESH_GAUSSIAN_C : 픽셀의 임곗값을 주변 픽셀 강도의 가중치 합으로 설정. 가중치는 가우시안 윈도우에 의해 결정\n",
        "* cv2.ADAPTIVE_THRESH_MEAN_C : 주변 픽셀의 평균을 임곗값으로 설정"
      ]
    },
    {
      "cell_type": "code",
      "execution_count": null,
      "metadata": {
        "colab": {
          "background_save": true
        },
        "id": "zPUYNEeA6Mg8"
      },
      "outputs": [],
      "source": [
        "# plot\n",
        "plt.imshow(image_binarized, cmap='gray')\n",
        "plt.show()"
      ]
    },
    {
      "cell_type": "markdown",
      "metadata": {
        "id": "qGzLmtkS6N5e"
      },
      "source": [
        "# 10. 배경 제거\n",
        "배경을 제거하고자 하는 전경 주위에 사각형 박스를 그리고 그랩컷(grabCut) 알고리즘을 적용하여 배경을 제거한다.\n",
        "grabCut의 경우 잘 작동하더라도 여전히 이미지에 제거하지 못한 배경이 발생할 수 있다. 이렇게 제거 되지 못한 부분은 다시 적용하여 제거할 수 있지만 실전에서 수 천장의 이미지를 수동으로 고치는 것은 불가능한 일이므로 머신러닝을 적용한다거나 할 때도 일부러 noise를 적용하는 것처럼 일부 배경이 남아있는 것을 수용하는 것이 좋다."
      ]
    },
    {
      "cell_type": "code",
      "execution_count": null,
      "metadata": {
        "colab": {
          "background_save": true
        },
        "id": "IQ6V8HhC6Pyt"
      },
      "outputs": [],
      "source": [
        "# 이미지 로드 후 RGB로 변환\n",
        "image_bgr = cv2.imread('images/plane_256x256.jpeg')\n",
        "image_rgb = cv2.cvtColor(image_bgr, cv2.COLOR_BGR2RGB)"
      ]
    },
    {
      "cell_type": "code",
      "execution_count": null,
      "metadata": {
        "colab": {
          "background_save": true
        },
        "id": "DQ7ytb-M6RAM"
      },
      "outputs": [],
      "source": [
        "# 사각형 좌표: 시작점의 x,y  ,넢이, 너비\n",
        "rectangle = (0, 56, 256, 150)\n",
        "\n",
        "# 초기 마스크 생성\n",
        "mask = np.zeros(image_rgb.shape[:2], np.uint8)\n",
        "\n",
        "# grabCut에 사용할 임시 배열 생성\n",
        "bgdModel = np.zeros((1, 65), np.float64)\n",
        "fgdModel = np.zeros((1, 65), np.float64)\n",
        "\n",
        "# grabCut 실행\n",
        "cv2.grabCut(image_rgb, # 원본 이미지\n",
        "           mask,       # 마스크\n",
        "           rectangle,  # 사각형\n",
        "           bgdModel,   # 배경을 위한 임시 배열\n",
        "           fgdModel,   # 전경을 위한 임시 배열 \n",
        "           5,          # 반복 횟수\n",
        "           cv2.GC_INIT_WITH_RECT) # 사각형을 위한 초기화"
      ]
    },
    {
      "cell_type": "code",
      "execution_count": null,
      "metadata": {
        "colab": {
          "background_save": true
        },
        "id": "ScVN1EoZ6SSy"
      },
      "outputs": [],
      "source": [
        "# 배경인 곳은 0, 그 외에는 1로 설정한 마스크 생성\n",
        "mask_2 = np.where((mask==2) | (mask==0), 0, 1).astype('uint8')\n",
        "\n",
        "# 이미지에 새로운 마스크를 곱행 배경을 제외\n",
        "image_rgb_nobg = image_rgb * mask_2[:, :, np.newaxis]\n",
        "\n",
        "# plot\n",
        "plt.imshow(image_rgb_nobg)\n",
        "plt.show()"
      ]
    },
    {
      "cell_type": "markdown",
      "metadata": {
        "id": "W3KTw14r6T1N"
      },
      "source": [
        "위에서 먼저 전경이 들어있는 영역 주위를 사각형으로 표시하였는데, grabCut은 이 사각형 밖에 있는 모든 것이 배경이라고 가정하고 이 정보를 사용하여 사각형 안에 있는 배경을 찾는다."
      ]
    },
    {
      "cell_type": "markdown",
      "metadata": {
        "id": "QsXLqgLw6VJa"
      },
      "source": [
        "왼쪽 그림의 검은 영역은 배경이라고 확실하게 가정한 사각형의 바깥쪽 영역이며, 회색 영역은 그랩컷이 배경이라고 생각하는 영역, 그리고 흰색 영역은 전경이다. 오른쪽 그림은 두 번째 마스크를 이미지에 적용하여 전경만 남긴 이미지이다."
      ]
    },
    {
      "cell_type": "markdown",
      "metadata": {
        "id": "zOHs-QF06Y2V"
      },
      "source": [
        "# 11. 경계선 감지\n",
        "Canny()메소드를 활용하여 경계선을 감지 할 수 있다. Canny()메소드는 그래디언트 임곗값 사이의 저점과 고점을 나타내는 두 매개변수를 필요로 하며, 낮은 임곗값과 높은 임곗값 사이의 가능성 있는 경계선 픽셀은 약한 경계선 픽셀로 간주하고, 높은 임곗값보다 큰 픽셀은 강한 경계선 픽셀로 간주한다."
      ]
    },
    {
      "cell_type": "code",
      "execution_count": null,
      "metadata": {
        "colab": {
          "background_save": true
        },
        "id": "vF83Bgs36W7j"
      },
      "outputs": [],
      "source": [
        "# 이미지 로드\n",
        "image_gray = cv2.imread('images/plane_256x256.jpeg', cv2.IMREAD_GRAYSCALE)\n",
        "\n",
        "# 픽셀 강도의 중간값을 계산\n",
        "median_intensity = np.median(image_gray)\n",
        "\n",
        "# 중간 픽셀 강도에서 위아래 1 표준편차 떨어진 값을 임곗값으로 지정\n",
        "lower_threshold = int(max(0, (1.0 - 0.33) * median_intensity))\n",
        "upper_threshold = int(min(255, (1.0 + 0.33) * median_intensity))"
      ]
    },
    {
      "cell_type": "code",
      "execution_count": null,
      "metadata": {
        "colab": {
          "background_save": true
        },
        "id": "BCcg0yZj6cyR"
      },
      "outputs": [],
      "source": [
        "# Canny edge detection 적용\n",
        "image_canny = cv2.Canny(image_gray, lower_threshold, upper_threshold)\n",
        "\n",
        "plt.imshow(image_canny, cmap='gray')\n",
        "plt.show()"
      ]
    },
    {
      "cell_type": "markdown",
      "metadata": {
        "id": "BgaoU4M16eUg"
      },
      "source": [
        "reference: https://velog.io/@jaehyeong/OpenCV%EB%A5%BC-%ED%99%9C%EC%9A%A9%ED%95%9C-%EA%B8%B0%EC%B4%88-%EC%9D%B4%EB%AF%B8%EC%A7%80-%EC%B2%98%EB%A6%AC-with-Python"
      ]
    }
  ],
  "metadata": {
    "colab": {
      "collapsed_sections": [],
      "name": "Image preprocessing(OpenCV).ipynb",
      "provenance": []
    },
    "kernelspec": {
      "display_name": "Python 3",
      "name": "python3"
    },
    "language_info": {
      "name": "python"
    }
  },
  "nbformat": 4,
  "nbformat_minor": 0
}