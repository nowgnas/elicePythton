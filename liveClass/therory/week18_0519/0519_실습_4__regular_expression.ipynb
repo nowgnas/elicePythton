{
  "nbformat": 4,
  "nbformat_minor": 0,
  "metadata": {
    "colab": {
      "name": "regular expression.ipynb",
      "provenance": [],
      "collapsed_sections": [],
      "toc_visible": true
    },
    "kernelspec": {
      "name": "python3",
      "display_name": "Python 3"
    },
    "language_info": {
      "name": "python"
    }
  },
  "cells": [
    {
      "cell_type": "markdown",
      "source": [
        "이 자료는 위키독스 딥 러닝을 이용한 자연어 처리 입문의 정규 표현식 튜토리얼 자료입니다.  \n",
        "\n",
        "링크 : https://wikidocs.net/21703"
      ],
      "metadata": {
        "id": "DT6IGJlpjAPj"
      }
    },
    {
      "cell_type": "markdown",
      "metadata": {
        "id": "b6gn0IE_XTyP"
      },
      "source": [
        "# 1. 정규 표현식 실습"
      ]
    },
    {
      "cell_type": "code",
      "metadata": {
        "id": "Q0P7qM5MVlg3"
      },
      "source": [
        "import re"
      ],
      "execution_count": null,
      "outputs": []
    },
    {
      "cell_type": "markdown",
      "metadata": {
        "id": "m2yBhTA_W44y"
      },
      "source": [
        "## 1) .기호"
      ]
    },
    {
      "cell_type": "code",
      "metadata": {
        "id": "b8mK7Tz2Wmqd"
      },
      "source": [
        "r = re.compile(\"a.c\")\n",
        "r.search(\"kkk\") # 아무런 결과도 출력되지 않는다."
      ],
      "execution_count": null,
      "outputs": []
    },
    {
      "cell_type": "code",
      "metadata": {
        "id": "MdJ90SdsWoDc"
      },
      "source": [
        "r.search(\"abc\")"
      ],
      "execution_count": null,
      "outputs": []
    },
    {
      "cell_type": "markdown",
      "metadata": {
        "id": "YE7no07jW9sG"
      },
      "source": [
        "## 2) ?기호"
      ]
    },
    {
      "cell_type": "code",
      "metadata": {
        "id": "m6e1re5xWo68"
      },
      "source": [
        "r = re.compile(\"ab?c\")\n",
        "r.search(\"abbc\") # 아무런 결과도 출력되지 않는다."
      ],
      "execution_count": null,
      "outputs": []
    },
    {
      "cell_type": "code",
      "metadata": {
        "id": "Z1JzaXNLWuBT"
      },
      "source": [
        "r.search(\"abc\")"
      ],
      "execution_count": null,
      "outputs": []
    },
    {
      "cell_type": "code",
      "metadata": {
        "id": "uFEgHiryWuy7"
      },
      "source": [
        "r.search(\"ac\")"
      ],
      "execution_count": null,
      "outputs": []
    },
    {
      "cell_type": "markdown",
      "metadata": {
        "id": "nKv1Bws2XC2D"
      },
      "source": [
        "## 3) *기호"
      ]
    },
    {
      "cell_type": "code",
      "metadata": {
        "id": "H097TUCKWvfD"
      },
      "source": [
        "r = re.compile(\"ab*c\")\n",
        "r.search(\"a\") # 아무런 결과도 출력되지 않는다."
      ],
      "execution_count": null,
      "outputs": []
    },
    {
      "cell_type": "code",
      "metadata": {
        "id": "5SjTs_XyWwfj"
      },
      "source": [
        "r.search(\"ac\")"
      ],
      "execution_count": null,
      "outputs": []
    },
    {
      "cell_type": "code",
      "metadata": {
        "id": "L3q1n3ctWxPD"
      },
      "source": [
        "r.search(\"abc\") "
      ],
      "execution_count": null,
      "outputs": []
    },
    {
      "cell_type": "code",
      "metadata": {
        "id": "GosGefZeWyFj"
      },
      "source": [
        "r.search(\"abbbbc\")"
      ],
      "execution_count": null,
      "outputs": []
    },
    {
      "cell_type": "markdown",
      "metadata": {
        "id": "bEm33duiXF1J"
      },
      "source": [
        "## 4) +기호"
      ]
    },
    {
      "cell_type": "code",
      "metadata": {
        "id": "To40UDWXWzdD"
      },
      "source": [
        "r = re.compile(\"ab+c\")\n",
        "r.search(\"ac\") # 아무런 결과도 출력되지 않는다."
      ],
      "execution_count": null,
      "outputs": []
    },
    {
      "cell_type": "code",
      "metadata": {
        "id": "g3YR4mipW0nj"
      },
      "source": [
        "r.search(\"abc\")"
      ],
      "execution_count": null,
      "outputs": []
    },
    {
      "cell_type": "code",
      "metadata": {
        "id": "Yf3rJg3XW14z"
      },
      "source": [
        "r.search(\"abbbbc\")"
      ],
      "execution_count": null,
      "outputs": []
    },
    {
      "cell_type": "markdown",
      "metadata": {
        "id": "Qhf3KYwwXJaR"
      },
      "source": [
        "##5) ^기호"
      ]
    },
    {
      "cell_type": "code",
      "metadata": {
        "id": "lzddNOMrW2vT"
      },
      "source": [
        "r = re.compile(\"^ab\")\n",
        "r.search(\"bbc\") # 아무런 결과도 출력되지 않는다.\n",
        "r.search(\"zab\") # 아무런 결과도 출력되지 않는다."
      ],
      "execution_count": null,
      "outputs": []
    },
    {
      "cell_type": "code",
      "metadata": {
        "id": "UK4DupjpXMEM"
      },
      "source": [
        "r.search(\"abz\")"
      ],
      "execution_count": null,
      "outputs": []
    },
    {
      "cell_type": "markdown",
      "metadata": {
        "id": "kiJnGkxjXORa"
      },
      "source": [
        "## 6) {숫자} 기호"
      ]
    },
    {
      "cell_type": "code",
      "metadata": {
        "id": "nSn928WrXNBj"
      },
      "source": [
        "r = re.compile(\"ab{2}c\")\n",
        "r.search(\"ac\") # 아무런 결과도 출력되지 않는다.\n",
        "r.search(\"abc\") # 아무런 결과도 출력되지 않는다.\n",
        "r.search(\"abbbbbc\") # 아무런 결과도 출력되지 않는다."
      ],
      "execution_count": null,
      "outputs": []
    },
    {
      "cell_type": "code",
      "metadata": {
        "id": "S5MGce6uXQGr"
      },
      "source": [
        "r.search(\"abbc\")"
      ],
      "execution_count": null,
      "outputs": []
    },
    {
      "cell_type": "markdown",
      "metadata": {
        "id": "gZqzr9G9XWdr"
      },
      "source": [
        "## 7) {숫자1, 숫자2} 기호"
      ]
    },
    {
      "cell_type": "code",
      "metadata": {
        "id": "K15jls0cXRsT"
      },
      "source": [
        "r = re.compile(\"ab{2,8}c\")\n",
        "r.search(\"ac\") # 아무런 결과도 출력되지 않는다.\n",
        "r.search(\"abc\") # 아무런 결과도 출력되지 않는다."
      ],
      "execution_count": null,
      "outputs": []
    },
    {
      "cell_type": "code",
      "metadata": {
        "id": "givKMbawXXb8"
      },
      "source": [
        "r.search(\"abbc\")"
      ],
      "execution_count": null,
      "outputs": []
    },
    {
      "cell_type": "code",
      "metadata": {
        "id": "okMpRJrgXYKL"
      },
      "source": [
        "r.search(\"abbbbbbbbc\")"
      ],
      "execution_count": null,
      "outputs": []
    },
    {
      "cell_type": "code",
      "metadata": {
        "id": "DssKVE_zXY9z"
      },
      "source": [
        "r.search(\"abbbbbbbbbc\") # 아무런 결과도 출력되지 않는다."
      ],
      "execution_count": null,
      "outputs": []
    },
    {
      "cell_type": "markdown",
      "metadata": {
        "id": "vRDsDOADXcAJ"
      },
      "source": [
        "## 8) {숫자,} 기호"
      ]
    },
    {
      "cell_type": "code",
      "metadata": {
        "id": "iILQ_lYKXZz7"
      },
      "source": [
        "r = re.compile(\"a{2,}bc\")\n",
        "r.search(\"bc\") # 아무런 결과도 출력되지 않는다.\n",
        "r.search(\"aa\") # 아무런 결과도 출력되지 않는다.\n",
        "r.search(\"aaaaaaaabc\") # 아무런 결과도 출력되지 않는다."
      ],
      "execution_count": null,
      "outputs": []
    },
    {
      "cell_type": "code",
      "metadata": {
        "id": "7lDKWFsPXdq7"
      },
      "source": [
        "r.search(\"aabc\")"
      ],
      "execution_count": null,
      "outputs": []
    },
    {
      "cell_type": "markdown",
      "metadata": {
        "id": "qTNV9-zFXgTC"
      },
      "source": [
        "## 9) [] 기호"
      ]
    },
    {
      "cell_type": "code",
      "metadata": {
        "id": "_1d381CQXfMk"
      },
      "source": [
        "r = re.compile(\"[abc]\") # [abc]는 [a-c]와 같다.\n",
        "r.search(\"zzz\") # 아무런 결과도 출력되지 않는다."
      ],
      "execution_count": null,
      "outputs": []
    },
    {
      "cell_type": "code",
      "metadata": {
        "id": "WwKqDOdmXjAL"
      },
      "source": [
        "r.search(\"a\")"
      ],
      "execution_count": null,
      "outputs": []
    },
    {
      "cell_type": "code",
      "metadata": {
        "id": "KIMaZGh0XjnL"
      },
      "source": [
        "r.search(\"aaaaaaa\")      "
      ],
      "execution_count": null,
      "outputs": []
    },
    {
      "cell_type": "code",
      "metadata": {
        "id": "PgLh2qZQXkQb"
      },
      "source": [
        "r.search(\"baac\") "
      ],
      "execution_count": null,
      "outputs": []
    },
    {
      "cell_type": "code",
      "metadata": {
        "id": "sU1HYwEvXlDL"
      },
      "source": [
        "r = re.compile(\"[a-z]\")\n",
        "r.search(\"AAA\") # 아무런 결과도 출력되지 않는다.\n",
        "r.search(\"111\") # 아무런 결과도 출력되지 않는다."
      ],
      "execution_count": null,
      "outputs": []
    },
    {
      "cell_type": "code",
      "metadata": {
        "id": "XRSxi_00Xoos"
      },
      "source": [
        "r.search(\"aBC\")"
      ],
      "execution_count": null,
      "outputs": []
    },
    {
      "cell_type": "markdown",
      "metadata": {
        "id": "4w3_ye7OXtRd"
      },
      "source": [
        "## 10) [^문자] 기호"
      ]
    },
    {
      "cell_type": "code",
      "metadata": {
        "id": "RPIq6u0ZXqtk"
      },
      "source": [
        "r = re.compile(\"[^abc]\")\n",
        "\n",
        "# 아래의 세 코드는 아무런 결과도 출력되지 않는다.\n",
        "r.search(\"a\")\n",
        "r.search(\"ab\") \n",
        "r.search(\"b\")"
      ],
      "execution_count": null,
      "outputs": []
    },
    {
      "cell_type": "code",
      "metadata": {
        "id": "V29HDp6lXuRk"
      },
      "source": [
        "r.search(\"d\")"
      ],
      "execution_count": null,
      "outputs": []
    },
    {
      "cell_type": "code",
      "metadata": {
        "id": "EyhmlW_fXu6M"
      },
      "source": [
        "r.search(\"1\")"
      ],
      "execution_count": null,
      "outputs": []
    },
    {
      "cell_type": "markdown",
      "metadata": {
        "id": "L2SveE-JXz4C"
      },
      "source": [
        "# 2. 정규 표현식 모듈 함수 예제\n"
      ]
    },
    {
      "cell_type": "markdown",
      "metadata": {
        "id": "f5ale9FwX2JM"
      },
      "source": [
        "## 1) re.match() 와 re.search()의 차이"
      ]
    },
    {
      "cell_type": "code",
      "metadata": {
        "id": "2VQ-yhqHXvzL"
      },
      "source": [
        "r = re.compile(\"ab.\")\n",
        "r.match(\"kkkabc\")  #아무런 결과도 출력되지 않는다."
      ],
      "execution_count": null,
      "outputs": []
    },
    {
      "cell_type": "code",
      "metadata": {
        "id": "9akE9RmKX39F"
      },
      "source": [
        "r.search(\"kkkabc\")  "
      ],
      "execution_count": null,
      "outputs": []
    },
    {
      "cell_type": "code",
      "metadata": {
        "id": "9HirqX5pX5yz"
      },
      "source": [
        "r.match(\"abckkk\")  "
      ],
      "execution_count": null,
      "outputs": []
    },
    {
      "cell_type": "markdown",
      "metadata": {
        "id": "2lrSPDVaYFhS"
      },
      "source": [
        "## 2) re.split()"
      ]
    },
    {
      "cell_type": "code",
      "metadata": {
        "id": "vNPyRednX6rM"
      },
      "source": [
        "text = \"사과 딸기 수박 메론 바나나\"\n",
        "re.split(\" \",text)"
      ],
      "execution_count": null,
      "outputs": []
    },
    {
      "cell_type": "code",
      "metadata": {
        "id": "y2oZWeHoYG3U"
      },
      "source": [
        "text=\"\"\"사과\n",
        "딸기\n",
        "수박\n",
        "메론\n",
        "바나나\"\"\"\n",
        "\n",
        "re.split(\"\\n\",text)"
      ],
      "execution_count": null,
      "outputs": []
    },
    {
      "cell_type": "code",
      "metadata": {
        "id": "7Ejgw9REYIc8"
      },
      "source": [
        "text = \"사과+딸기+수박+메론+바나나\"\n",
        "\n",
        "re.split(\"\\+\",text)"
      ],
      "execution_count": null,
      "outputs": []
    },
    {
      "cell_type": "markdown",
      "metadata": {
        "id": "ONJQ_GCXYUKu"
      },
      "source": [
        "## 3) re.findall()"
      ]
    },
    {
      "cell_type": "code",
      "metadata": {
        "id": "MAOQv_dSYKH8"
      },
      "source": [
        "text = \"\"\"이름 : 김철수\n",
        "전화번호 : 010 - 1234 - 1234\n",
        "나이 : 30\n",
        "성별 : 남\"\"\"\n",
        "\n",
        "re.findall(\"\\d+\",text)"
      ],
      "execution_count": null,
      "outputs": []
    },
    {
      "cell_type": "code",
      "metadata": {
        "id": "vLwDEXE8YVnT"
      },
      "source": [
        "re.findall(\"\\d+\", \"문자열입니다.\")"
      ],
      "execution_count": null,
      "outputs": []
    },
    {
      "cell_type": "markdown",
      "metadata": {
        "id": "_rO5lEAAYZ8I"
      },
      "source": [
        "## 4) re.sub()"
      ]
    },
    {
      "cell_type": "code",
      "metadata": {
        "id": "s-XTPtXPYXpD"
      },
      "source": [
        "text = \"Regular expression : A regular expression, regex or regexp[1] (sometimes called a rational expression)[2][3] is, in theoretical computer science and formal language theory, a sequence of characters that define a search pattern.\"\n",
        "\n",
        "preprocessed_text = re.sub('[^a-zA-Z]', ' ', text)\n",
        "print(preprocessed_text)"
      ],
      "execution_count": null,
      "outputs": []
    },
    {
      "cell_type": "markdown",
      "metadata": {
        "id": "nuQQUc57Yizx"
      },
      "source": [
        "# 3. 정규 표현식 텍스트 전처리 예제"
      ]
    },
    {
      "cell_type": "code",
      "metadata": {
        "id": "K6TgvUHDYbsL"
      },
      "source": [
        "text = \"\"\"100 John    PROF\n",
        "101 James   STUD\n",
        "102 Mac   STUD\"\"\"  \n",
        "\n",
        "re.split('\\s+', text)"
      ],
      "execution_count": null,
      "outputs": []
    },
    {
      "cell_type": "code",
      "metadata": {
        "id": "E_JDBdJoYhdL"
      },
      "source": [
        "re.findall('\\d+',text)"
      ],
      "execution_count": null,
      "outputs": []
    },
    {
      "cell_type": "code",
      "metadata": {
        "id": "Q8RZoINiYv2M"
      },
      "source": [
        "re.findall('[A-Z]',text)"
      ],
      "execution_count": null,
      "outputs": []
    },
    {
      "cell_type": "code",
      "metadata": {
        "id": "IGVZJjlCYw48"
      },
      "source": [
        "re.findall('[A-Z]{4}',text)"
      ],
      "execution_count": null,
      "outputs": []
    },
    {
      "cell_type": "code",
      "metadata": {
        "id": "boLRGNA9Yxus"
      },
      "source": [
        "re.findall('[A-Z][a-z]+',text)"
      ],
      "execution_count": null,
      "outputs": []
    },
    {
      "cell_type": "markdown",
      "metadata": {
        "id": "bw1IkNwPY0M7"
      },
      "source": [
        "# 4. 정규 표현식을 이용한 토큰화"
      ]
    },
    {
      "cell_type": "code",
      "metadata": {
        "id": "AVBfZWdjYy58"
      },
      "source": [
        "from nltk.tokenize import RegexpTokenizer\n",
        "\n",
        "text = \"Don't be fooled by the dark sounding name, Mr. Jone's Orphanage is as cheery as cheery goes for a pastry shop\"\n",
        "\n",
        "tokenizer1 = RegexpTokenizer(\"[\\w]+\")\n",
        "tokenizer2 = RegexpTokenizer(\"[\\s]+\", gaps=True)\n",
        "\n",
        "print(tokenizer1.tokenize(text))\n",
        "print(tokenizer2.tokenize(text))"
      ],
      "execution_count": null,
      "outputs": []
    }
  ]
}