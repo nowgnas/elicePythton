{
  "nbformat": 4,
  "nbformat_minor": 0,
  "metadata": {
    "colab": {
      "name": "Padding.ipynb",
      "provenance": [],
      "collapsed_sections": []
    },
    "kernelspec": {
      "name": "python3",
      "display_name": "Python 3"
    },
    "language_info": {
      "name": "python"
    }
  },
  "cells": [
    {
      "cell_type": "markdown",
      "source": [
        "이 자료는 위키독스 딥 러닝을 이용한 자연어 처리 입문의 패딩 튜토리얼 자료입니다."
      ],
      "metadata": {
        "id": "MiDN1lvh3pnP"
      }
    },
    {
      "cell_type": "markdown",
      "source": [
        "링크 : https://wikidocs.net/83544"
      ],
      "metadata": {
        "id": "dvV7bhNj3vcJ"
      }
    },
    {
      "cell_type": "code",
      "metadata": {
        "id": "QDX-3ZKzv0UA"
      },
      "source": [
        "import numpy as np\n",
        "from tensorflow.keras.preprocessing.text import Tokenizer"
      ],
      "execution_count": null,
      "outputs": []
    },
    {
      "cell_type": "code",
      "metadata": {
        "id": "NiaIXczav2mQ"
      },
      "source": [
        "preprocessed_sentences = [['barber', 'person'], ['barber', 'good', 'person'], ['barber', 'huge', 'person'], ['knew', 'secret'], ['secret', 'kept', 'huge', 'secret'], ['huge', 'secret'], ['barber', 'kept', 'word'], ['barber', 'kept', 'word'], ['barber', 'kept', 'secret'], ['keeping', 'keeping', 'huge', 'secret', 'driving', 'barber', 'crazy'], ['barber', 'went', 'huge', 'mountain']]"
      ],
      "execution_count": null,
      "outputs": []
    },
    {
      "cell_type": "code",
      "metadata": {
        "id": "iftSdujkv5_H"
      },
      "source": [
        "tokenizer = Tokenizer()\n",
        "# fit_on_texts()안에 코퍼스를 입력으로 하면 빈도수를 기준으로 단어 집합을 생성.\n",
        "tokenizer.fit_on_texts(preprocessed_sentences)"
      ],
      "execution_count": null,
      "outputs": []
    },
    {
      "cell_type": "code",
      "metadata": {
        "id": "yeq_V_h5v9gf"
      },
      "source": [
        "encoded = tokenizer.texts_to_sequences(preprocessed_sentences)\n",
        "print(encoded)"
      ],
      "execution_count": null,
      "outputs": []
    },
    {
      "cell_type": "code",
      "metadata": {
        "id": "nRbwMpXfv_MH"
      },
      "source": [
        "max_len = max(len(item) for item in encoded)\n",
        "print(max_len)"
      ],
      "execution_count": null,
      "outputs": []
    },
    {
      "cell_type": "code",
      "metadata": {
        "id": "D5LXARLpwAKX"
      },
      "source": [
        "for sentence in encoded: # 각 문장에 대해서\n",
        "    while len(sentence) < max_len:   # max_len보다 작으면\n",
        "        sentence.append(0)\n",
        "\n",
        "padded_np = np.array(encoded)\n",
        "padded_np"
      ],
      "execution_count": null,
      "outputs": []
    },
    {
      "cell_type": "code",
      "metadata": {
        "id": "AHkRyo5KwIVf"
      },
      "source": [
        "from tensorflow.keras.preprocessing.sequence import pad_sequences"
      ],
      "execution_count": null,
      "outputs": []
    },
    {
      "cell_type": "code",
      "metadata": {
        "id": "rYT7zbMawJsX"
      },
      "source": [
        "encoded = tokenizer.texts_to_sequences(preprocessed_sentences)\n",
        "print(encoded)"
      ],
      "execution_count": null,
      "outputs": []
    },
    {
      "cell_type": "code",
      "metadata": {
        "id": "ZeQk87NowLwP"
      },
      "source": [
        "padded = pad_sequences(encoded)\n",
        "padded"
      ],
      "execution_count": null,
      "outputs": []
    },
    {
      "cell_type": "code",
      "metadata": {
        "id": "k_02UD6AwMsv"
      },
      "source": [
        "padded = pad_sequences(encoded, padding='post')\n",
        "padded"
      ],
      "execution_count": null,
      "outputs": []
    },
    {
      "cell_type": "code",
      "metadata": {
        "id": "G0MsGxiawNwX"
      },
      "source": [
        "(padded == padded_np).all()"
      ],
      "execution_count": null,
      "outputs": []
    },
    {
      "cell_type": "code",
      "metadata": {
        "id": "59Na4afkwOp_"
      },
      "source": [
        "padded = pad_sequences(encoded, padding='post', maxlen=5)\n",
        "padded"
      ],
      "execution_count": null,
      "outputs": []
    },
    {
      "cell_type": "code",
      "source": [
        "padded = pad_sequences(encoded, padding='post', truncating='post', maxlen=5)\n",
        "padded"
      ],
      "metadata": {
        "id": "ja2dj6FFvtPf"
      },
      "execution_count": null,
      "outputs": []
    },
    {
      "cell_type": "code",
      "metadata": {
        "id": "Pl_M1__rwPZf"
      },
      "source": [
        "# 단어 집합의 크기보다 1 큰 숫자를 사용\n",
        "last_value = len(tokenizer.word_index) + 1\n",
        "print(last_value)"
      ],
      "execution_count": null,
      "outputs": []
    },
    {
      "cell_type": "code",
      "metadata": {
        "id": "tHerG1DHwQE_"
      },
      "source": [
        "padded = pad_sequences(encoded, padding='post', value=last_value)\n",
        "padded"
      ],
      "execution_count": null,
      "outputs": []
    }
  ]
}