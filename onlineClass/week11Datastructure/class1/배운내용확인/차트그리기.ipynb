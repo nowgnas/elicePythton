{
 "cells": [
  {
   "cell_type": "code",
   "execution_count": 1,
   "metadata": {},
   "outputs": [
    {
     "name": "stdout",
     "output_type": "stream",
     "text": [
      "막대 차트를 출력합니다.\n"
     ]
    },
    {
     "data": {
      "image/png": "[encoded data removed]",
      "text/plain": [
       "<Figure size 432x288 with 1 Axes>"
      ]
     },
     "metadata": {
      "needs_background": "light"
     },
     "output_type": "display_data"
    }
   ],
   "source": [
    "# matplotlib의 일부인 pyplot 라이브러리를 불러옵니다.\n",
    "import matplotlib.pyplot as plt\n",
    "\n",
    "# 엘리스에서 차트를 그릴 때 필요한 라이브러리를 불러옵니다.\n",
    "# from elice_utils import EliceUtils\n",
    "# elice_utils = EliceUtils()\n",
    "\n",
    "# 월별 평균 기온을 선언합니다. 수정하지 마세요.\n",
    "years = [2013, 2014, 2015, 2016, 2017]\n",
    "temperatures = [5, 10, 15, 20, 17]\n",
    "\n",
    "#막대 차트를 출력합니다.\n",
    "\n",
    "\n",
    "def draw_graph():\n",
    "    # 막대 그래프의 막대 위치를 결정하는 pos를 선언합니다.\n",
    "    pos = range(len(years))  # [0, 1, 2, 3, 4]\n",
    "\n",
    "    # 높이가 온도인 막대 그래프를 그립니다.\n",
    "    # 각 막대를 가운데 정렬합니다.\n",
    "    plt.bar(pos, temperatures, align='center')\n",
    "    \n",
    "\n",
    "    # 각 막대에 해당되는 연도를 표기합니다.\n",
    "    plt.xticks(pos, years)\n",
    "\n",
    "    # 그래프를 엘리스 플랫폼 상에 표시합니다.\n",
    "    plt.savefig('graph.png')\n",
    "    # elice_utils.send_image('graph.png')\n",
    "\n",
    "\n",
    "print('막대 차트를 출력합니다.')\n",
    "draw_graph()\n"
   ]
  }
 ],
 "metadata": {
  "interpreter": {
   "hash": "916dbcbb3f70747c44a77c7bcd40155683ae19c65e1c03b4aa3499c5328201f1"
  },
  "kernelspec": {
   "display_name": "Python 3.8.10 64-bit",
   "language": "python",
   "name": "python3"
  },
  "language_info": {
   "codemirror_mode": {
    "name": "ipython",
    "version": 3
   },
   "file_extension": ".py",
   "mimetype": "text/x-python",
   "name": "python",
   "nbconvert_exporter": "python",
   "pygments_lexer": "ipython3",
   "version": "3.8.10"
  },
  "orig_nbformat": 4
 },
 "nbformat": 4,
 "nbformat_minor": 2
}
