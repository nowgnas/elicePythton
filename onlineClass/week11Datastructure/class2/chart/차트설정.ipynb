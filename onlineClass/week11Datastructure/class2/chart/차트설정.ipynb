{
 "cells": [
  {
   "cell_type": "code",
   "execution_count": 3,
   "metadata": {},
   "outputs": [
    {
     "data": {
      "image/png": "[encoded data removed]",
      "text/plain": [
       "<Figure size 432x288 with 1 Axes>"
      ]
     },
     "metadata": {
      "needs_background": "light"
     },
     "output_type": "display_data"
    }
   ],
   "source": [
    "import matplotlib.pyplot as plt\n",
    "import matplotlib.font_manager as fm\n",
    "\n",
    "# from elice_utils import EliceUtils\n",
    "# elice_utils = EliceUtils()\n",
    "\n",
    "# 날짜 별 온도 데이터를 세팅합니다.\n",
    "dates = [\"1월 {}일\".format(day) for day in range(1, 32)]\n",
    "temperatures = list(range(1, 32))\n",
    "\n",
    "# 막대 그래프의 막대 위치를 결정하는 pos를 선언합니다.\n",
    "pos = range(len(dates))\n",
    "\n",
    "# 한국어를 보기 좋게 표시할 수 있도록 폰트를 설정합니다.\n",
    "font = fm.FontProperties(fname='./NanumBarunGothic.ttf')\n",
    "\n",
    "# 막대의 높이가 빈도의 값이 되도록 설정합니다.\n",
    "plt.bar(pos, temperatures, align='center')\n",
    "\n",
    "# 각 막대에 해당되는 단어를 입력합니다.\n",
    "plt.xticks(pos, dates, rotation='vertical', fontproperties=font)\n",
    "\n",
    "# 그래프의 제목을 설정합니다.\n",
    "plt.title('1월 중 기온 변화', fontproperties=font)\n",
    "\n",
    "# Y축에 설명을 추가합니다.\n",
    "plt.ylabel('온도', fontproperties=font)\n",
    "\n",
    "# 단어가 잘리지 않도록 여백을 조정합니다.\n",
    "plt.tight_layout()\n",
    "\n",
    "# 그래프를 표시합니다.\n",
    "plt.savefig('graph.png')\n",
    "# elice_utils.send_image('graph.png')\n"
   ]
  }
 ],
 "metadata": {
  "interpreter": {
   "hash": "916dbcbb3f70747c44a77c7bcd40155683ae19c65e1c03b4aa3499c5328201f1"
  },
  "kernelspec": {
   "display_name": "Python 3.8.10 64-bit",
   "language": "python",
   "name": "python3"
  },
  "language_info": {
   "codemirror_mode": {
    "name": "ipython",
    "version": 3
   },
   "file_extension": ".py",
   "mimetype": "text/x-python",
   "name": "python",
   "nbconvert_exporter": "python",
   "pygments_lexer": "ipython3",
   "version": "3.8.10"
  },
  "orig_nbformat": 4
 },
 "nbformat": 4,
 "nbformat_minor": 2
}
